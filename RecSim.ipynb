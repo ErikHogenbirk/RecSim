{
 "cells": [
  {
   "cell_type": "code",
   "execution_count": 1,
   "metadata": {
    "collapsed": true
   },
   "outputs": [],
   "source": [
    "import numpy as np\n",
    "import pandas as pd\n",
    "import matplotlib.pyplot as plt\n",
    "%matplotlib inline"
   ]
  },
  {
   "cell_type": "code",
   "execution_count": null,
   "metadata": {
    "collapsed": true
   },
   "outputs": [],
   "source": []
  },
  {
   "cell_type": "code",
   "execution_count": null,
   "metadata": {
    "collapsed": true
   },
   "outputs": [],
   "source": []
  },
  {
   "cell_type": "code",
   "execution_count": 467,
   "metadata": {
    "collapsed": false
   },
   "outputs": [],
   "source": [
    "class RecSim():\n",
    "    '''\n",
    "    \n",
    "    '''\n",
    "    # df holds information on the grid\n",
    "    df = None\n",
    "    # time-varying information\n",
    "    d = None\n",
    "    \n",
    "    nbins = 0\n",
    "    coord_names = np.array(['x', 'y', 'z'])\n",
    "    coord_steps = []\n",
    "    coord_bins = []\n",
    "    coord_values = None\n",
    "    t = 0.\n",
    "    dt = 0.\n",
    "    \n",
    "    def __init__(self, x, y, z, dt, **config):\n",
    "        '''\n",
    "        Initialize simulation.\n",
    "        x,y and z must be passed as parameter values on the grid and are assumed to be linspaced.\n",
    "        config is a configuration dict with settings for the simulation.\n",
    "        '''\n",
    "        self.set_coords(x,y,z)\n",
    "        self.config = config\n",
    "        self.d = []\n",
    "        self.dt = dt\n",
    "        return\n",
    "    \n",
    "    def set_coords(self, x, y, z):\n",
    "        if self.df is not None:\n",
    "            print('Warning: overwriting data...')\n",
    "        # Produce parameter array\n",
    "        self.x = x \n",
    "        self.y = y \n",
    "        self.z = z \n",
    "        self.coord_steps = np.array([np.unique(np.diff(coord))[0] for coord in [x,y,z]])\n",
    "        self.coord_bins  = np.array([len(coord) for coord in [x,y,z]])\n",
    "        coords = np.meshgrid(self.x, self.y, self.z)\n",
    "        coords = [_coord.flatten() for _coord in coords]\n",
    "        self.df = pd.DataFrame()\n",
    "        for name, coord in zip(self.coord_names, coords):\n",
    "            self.df[name] = coord\n",
    "        self.nbins = len(self.df)\n",
    "        return\n",
    "    \n",
    "    def set_density_sphere(self, radius, center, name):\n",
    "        self.df[name] = np.zeros(self.nbins)\n",
    "        r_from_center = np.sqrt(np.sum([(self.df[coord] - center[i])**2 for i, coord in enumerate(self.coord_names)], axis=0))\n",
    "        self.df[name][r_from_center <= radius] = 1.\n",
    "        return\n",
    "    \n",
    "    def plot_density(self, name, axes_numbers = [0, 2], **kwargs):\n",
    "        x, y = self.coord_names[axes_numbers]\n",
    "        grouped = self.df.groupby(by = (x, y)).sum()\n",
    "        grouped[x] = grouped.index.get_level_values(x).values\n",
    "        grouped[y] = grouped.index.get_level_values(y).values\n",
    "        #return grouped\n",
    "        plt.imshow(np.reshape(grouped[name].values, (self.coord_bins[axes_numbers])).T, **kwargs)\n",
    "        plt.xlabel(x)\n",
    "        plt.ylabel(y)\n",
    "        plt.title(name)\n",
    "        return grouped[x].values, grouped[y].values, grouped[name].values\n",
    "    \n",
    "    def diffuse(self, name, diffconst):\n",
    "        ret = {}\n",
    "        # Values in the grid\n",
    "        vals = self.df[name].values\n",
    "        ret[name + '_sum'] = np.sum(vals)\n",
    "        # Reshape array\n",
    "        grid = np.reshape(vals, self.coord_bins)\n",
    "        \n",
    "        difflist = []\n",
    "        empty_x = np.zeros(shape = np.shape(grid[[0], :, :]), dtype=float)\n",
    "        difflist.append(np.concatenate([empty_x, grid[:-1, :, :]], axis=0).flatten())\n",
    "        difflist.append(np.concatenate([grid[1:, :, :], empty_x], axis=0).flatten())\n",
    "        \n",
    "        empty_y = np.zeros(shape = np.shape(grid[:, [0], :]), dtype=float)\n",
    "        difflist.append(np.concatenate([empty_y, grid[:, :-1, :]], axis=1).flatten())\n",
    "        difflist.append(np.concatenate([grid[:, 1:, :], empty_y], axis=1).flatten())\n",
    "        \n",
    "        empty_z = np.zeros(shape = np.shape(grid[:, :, [0]]), dtype=float)\n",
    "        difflist.append(np.concatenate([empty_z, grid[:, :, :-1]], axis=2).flatten())\n",
    "        difflist.append(np.concatenate([grid[:, :, 1:], empty_z], axis=2).flatten())\n",
    "        \n",
    "        ret[name + '_out_x-'] = np.sum(grid[0,  :, :])\n",
    "        ret[name + '_out_x+'] = np.sum(grid[-1, :, :])\n",
    "        ret[name + '_out_y-'] = np.sum(grid[:,  0, :])\n",
    "        ret[name + '_out_y+'] = np.sum(grid[:, -1, :])\n",
    "        ret[name + '_out_z-'] = np.sum(grid[:, :,  0])\n",
    "        ret[name + '_out_z+'] = np.sum(grid[:, :, -1])\n",
    "        ret[name + '_out'] = np.sum(ret[name + '_out_' + coord + parity] for coord in self.coord_names \n",
    "                                    for parity in ['+', '-'])\n",
    "        \n",
    "        netflux = np.sum(difflist, axis=0)\n",
    "        self.df[name] = self.df[name] + netflux * diffconst - self.df[name] * diffconst * 6        \n",
    "        return ret\n",
    "    \n",
    "    def recombine(self, name0, name1, alpha):\n",
    "        ret = {}\n",
    "        # Compute overlap\n",
    "        overlap = self.df[name0] * self.df[name1]\n",
    "        recombined = overlap * alpha * self.dt\n",
    "        # alpha defines the probability of recombination\n",
    "        self.df[name0] = self.df[name0] - recombined\n",
    "        self.df[name1] = self.df[name1] - recombined\n",
    "        ret['ex_production'] = np.sum(recombined)\n",
    "        return ret\n",
    "    \n",
    "    def decay(self, tau):\n",
    "        ret = {}\n",
    "        if len(self.d) == 0:\n",
    "            ex_n = 0\n",
    "        else:\n",
    "            ex_n = self.d[-1]['ex_n']\n",
    "        ret['ex_decay'] = ex_n * self.dt / tau\n",
    "        return ret\n",
    "    \n",
    "    def evolve_one_step(self):\n",
    "        tdict = {}\n",
    "        # First diffuse electrons\n",
    "        tdict.update(self.diffuse('e', self.config['e_diff_const']))\n",
    "        tdict.update(self.recombine('e', 'ion', self.config['alpha']))\n",
    "        tdict.update(self.decay(self.config['tau']))\n",
    "        if len(self.d) == 0:\n",
    "            ex_n = tdict['ex_production'] - tdict['ex_decay']\n",
    "        else:\n",
    "            ex_n = tdict['ex_production']  - tdict['ex_decay'] + self.d[-1]['ex_n']\n",
    "        tdict['ex_n'] = ex_n\n",
    "        tdict['t'] = self.t\n",
    "        self.t = self.t + self.dt\n",
    "        self.d.append(tdict)\n",
    "        return\n",
    "        \n",
    "    def evolve(self, nsteps, tqdm=False):\n",
    "        if tqdm:\n",
    "            for i in tqdm(range(nsteps)):\n",
    "                self.evolve_one_step()\n",
    "        else:\n",
    "            for i in range(nsteps):\n",
    "                self.evolve_one_step()\n",
    "            \n",
    "    def data(self):\n",
    "        return pd.DataFrame(self.d)\n",
    "                "
   ]
  },
  {
   "cell_type": "code",
   "execution_count": 502,
   "metadata": {
    "collapsed": false
   },
   "outputs": [],
   "source": [
    "rs = RecSim(np.linspace(-20, 20, 41), np.linspace(-20, 20, 41), np.linspace(-20, 20, 41), dt=1, \n",
    "           e_diff_const = 0.1, alpha=0.1, tau=22)"
   ]
  },
  {
   "cell_type": "code",
   "execution_count": 503,
   "metadata": {
    "collapsed": false
   },
   "outputs": [],
   "source": [
    "rs.set_density_sphere(5, [0, 0, 0], 'e')"
   ]
  },
  {
   "cell_type": "code",
   "execution_count": 504,
   "metadata": {
    "collapsed": true
   },
   "outputs": [],
   "source": [
    "rs.set_density_sphere(5, [0, 0, 0], 'ion')"
   ]
  },
  {
   "cell_type": "code",
   "execution_count": 557,
   "metadata": {
    "collapsed": true
   },
   "outputs": [],
   "source": [
    "rs.evolve(500)"
   ]
  },
  {
   "cell_type": "code",
   "execution_count": 558,
   "metadata": {
    "collapsed": false
   },
   "outputs": [],
   "source": [
    "d = rs.data()"
   ]
  },
  {
   "cell_type": "code",
   "execution_count": 559,
   "metadata": {
    "collapsed": false
   },
   "outputs": [
    {
     "data": {
      "image/png": "[encoded data removed]",
      "text/plain": [
       "<matplotlib.figure.Figure at 0x7f82f98bbc18>"
      ]
     },
     "metadata": {},
     "output_type": "display_data"
    }
   ],
   "source": [
    "rs.plot_density('e')\n",
    "plt.show()"
   ]
  },
  {
   "cell_type": "code",
   "execution_count": 560,
   "metadata": {
    "collapsed": false
   },
   "outputs": [
    {
     "data": {
      "image/png": "[encoded data removed]",
      "text/plain": [
       "<matplotlib.figure.Figure at 0x7f82f98db7f0>"
      ]
     },
     "metadata": {},
     "output_type": "display_data"
    }
   ],
   "source": [
    "rs.plot_density('ion')\n",
    "plt.show()"
   ]
  },
  {
   "cell_type": "code",
   "execution_count": 561,
   "metadata": {
    "collapsed": false
   },
   "outputs": [
    {
     "data": {
      "image/png": "[encoded data removed]",
      "text/plain": [
       "<matplotlib.figure.Figure at 0x7f82f3530f98>"
      ]
     },
     "metadata": {},
     "output_type": "display_data"
    }
   ],
   "source": [
    "plt.plot(d['t'], d['ex_decay'], label = 'decay')\n",
    "plt.plot(d['t'], d['ex_production'], label='production')\n",
    "plt.plot(d['t'], 10 * np.exp(-d['t'] / 22), label='direct ex')\n",
    "# plt.plot(d['t'], d['ex_n'])\n",
    "plt.ylim(1e-3, 40)\n",
    "plt.xlabel('Time')\n",
    "plt.yscale('log')"
   ]
  },
  {
   "cell_type": "code",
   "execution_count": 562,
   "metadata": {
    "collapsed": false
   },
   "outputs": [
    {
     "data": {
      "text/plain": [
       "<matplotlib.text.Text at 0x7f82f32f94e0>"
      ]
     },
     "execution_count": 562,
     "metadata": {},
     "output_type": "execute_result"
    },
    {
     "data": {
      "image/png": "[encoded data removed]",
      "text/plain": [
       "<matplotlib.figure.Figure at 0x7f82f33dc828>"
      ]
     },
     "metadata": {},
     "output_type": "display_data"
    }
   ],
   "source": [
    "plt.plot(d['t'], d['e_out'], label = 'decay')\n",
    "plt.xlabel('Time')\n",
    "plt.ylabel('Electron outflow')"
   ]
  },
  {
   "cell_type": "code",
   "execution_count": 563,
   "metadata": {
    "collapsed": false
   },
   "outputs": [
    {
     "data": {
      "image/png": "[encoded data removed]",
      "text/plain": [
       "<matplotlib.figure.Figure at 0x7f82f37c3cf8>"
      ]
     },
     "metadata": {},
     "output_type": "display_data"
    }
   ],
   "source": [
    "plt.plot(d['t'], d['e_sum'], label = 'Total n_electrons')\n",
    "plt.xlabel('Time')\n",
    "plt.ylabel('Number of electrons')\n",
    "plt.yscale('log')"
   ]
  },
  {
   "cell_type": "code",
   "execution_count": null,
   "metadata": {
    "collapsed": true
   },
   "outputs": [],
   "source": []
  }
 ],
 "metadata": {
  "kernelspec": {
   "display_name": "Python 3",
   "language": "python",
   "name": "python3"
  },
  "language_info": {
   "codemirror_mode": {
    "name": "ipython",
    "version": 3
   },
   "file_extension": ".py",
   "mimetype": "text/x-python",
   "name": "python",
   "nbconvert_exporter": "python",
   "pygments_lexer": "ipython3",
   "version": "3.4.5"
  },
  "latex_envs": {
   "bibliofile": "biblio.bib",
   "cite_by": "apalike",
   "current_citInitial": 1,
   "eqLabelWithNumbers": true,
   "eqNumInitial": 0
  }
 },
 "nbformat": 4,
 "nbformat_minor": 2
}
